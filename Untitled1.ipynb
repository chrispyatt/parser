{
 "cells": [
  {
   "cell_type": "code",
   "execution_count": 114,
   "metadata": {},
   "outputs": [],
   "source": [
    "import requests\n",
    "import pandas as pd\n",
    "import matplotlib.pyplot as plt\n",
    "import scipy\n",
    "from scipy import stats\n",
    "import datetime\n",
    "import numpy as np"
   ]
  },
  {
   "cell_type": "code",
   "execution_count": 9,
   "metadata": {},
   "outputs": [
    {
     "name": "stdout",
     "output_type": "stream",
     "text": [
      "200\n"
     ]
    }
   ],
   "source": [
    "r = requests.get(\"https://openprescribing.net/api/1.0/spending_by_practice/?code=5.1&org=14L&format=json\")\n",
    "print(r.status_code)"
   ]
  },
  {
   "cell_type": "code",
   "execution_count": 74,
   "metadata": {},
   "outputs": [
    {
     "data": {
      "text/html": [
       "<div>\n",
       "<style scoped>\n",
       "    .dataframe tbody tr th:only-of-type {\n",
       "        vertical-align: middle;\n",
       "    }\n",
       "\n",
       "    .dataframe tbody tr th {\n",
       "        vertical-align: top;\n",
       "    }\n",
       "\n",
       "    .dataframe thead th {\n",
       "        text-align: right;\n",
       "    }\n",
       "</style>\n",
       "<table border=\"1\" class=\"dataframe\">\n",
       "  <thead>\n",
       "    <tr style=\"text-align: right;\">\n",
       "      <th></th>\n",
       "      <th>actual_cost</th>\n",
       "      <th>ccg</th>\n",
       "      <th>date</th>\n",
       "      <th>items</th>\n",
       "      <th>quantity</th>\n",
       "      <th>row_id</th>\n",
       "      <th>row_name</th>\n",
       "      <th>setting</th>\n",
       "    </tr>\n",
       "  </thead>\n",
       "  <tbody>\n",
       "    <tr>\n",
       "      <th>0</th>\n",
       "      <td>2856.64</td>\n",
       "      <td>14L</td>\n",
       "      <td>2014-10-01</td>\n",
       "      <td>417</td>\n",
       "      <td>18650</td>\n",
       "      <td>P84004</td>\n",
       "      <td>FIVE OAKS FAMILIY PRACTICE</td>\n",
       "      <td>4</td>\n",
       "    </tr>\n",
       "    <tr>\n",
       "      <th>1</th>\n",
       "      <td>919.79</td>\n",
       "      <td>14L</td>\n",
       "      <td>2014-10-01</td>\n",
       "      <td>203</td>\n",
       "      <td>8165</td>\n",
       "      <td>P84005</td>\n",
       "      <td>THE VALLANCE CENTRE</td>\n",
       "      <td>4</td>\n",
       "    </tr>\n",
       "    <tr>\n",
       "      <th>2</th>\n",
       "      <td>2063.74</td>\n",
       "      <td>14L</td>\n",
       "      <td>2014-10-01</td>\n",
       "      <td>357</td>\n",
       "      <td>17084</td>\n",
       "      <td>P84009</td>\n",
       "      <td>AILSA CRAIG MEDICAL CENTRE</td>\n",
       "      <td>4</td>\n",
       "    </tr>\n",
       "    <tr>\n",
       "      <th>3</th>\n",
       "      <td>1873.21</td>\n",
       "      <td>14L</td>\n",
       "      <td>2014-10-01</td>\n",
       "      <td>423</td>\n",
       "      <td>17154</td>\n",
       "      <td>P84010</td>\n",
       "      <td>THE BORCHARDT MEDICAL CENTRE</td>\n",
       "      <td>4</td>\n",
       "    </tr>\n",
       "    <tr>\n",
       "      <th>4</th>\n",
       "      <td>2992.22</td>\n",
       "      <td>14L</td>\n",
       "      <td>2014-10-01</td>\n",
       "      <td>644</td>\n",
       "      <td>28069</td>\n",
       "      <td>P84012</td>\n",
       "      <td>NORTHENDEN GROUP PRACTICE</td>\n",
       "      <td>4</td>\n",
       "    </tr>\n",
       "  </tbody>\n",
       "</table>\n",
       "</div>"
      ],
      "text/plain": [
       "   actual_cost  ccg        date  items  quantity  row_id  \\\n",
       "0      2856.64  14L  2014-10-01    417     18650  P84004   \n",
       "1       919.79  14L  2014-10-01    203      8165  P84005   \n",
       "2      2063.74  14L  2014-10-01    357     17084  P84009   \n",
       "3      1873.21  14L  2014-10-01    423     17154  P84010   \n",
       "4      2992.22  14L  2014-10-01    644     28069  P84012   \n",
       "\n",
       "                       row_name  setting  \n",
       "0    FIVE OAKS FAMILIY PRACTICE        4  \n",
       "1           THE VALLANCE CENTRE        4  \n",
       "2    AILSA CRAIG MEDICAL CENTRE        4  \n",
       "3  THE BORCHARDT MEDICAL CENTRE        4  \n",
       "4     NORTHENDEN GROUP PRACTICE        4  "
      ]
     },
     "execution_count": 74,
     "metadata": {},
     "output_type": "execute_result"
    }
   ],
   "source": [
    "df = pd.DataFrame(r.json())\n",
    "df.head()"
   ]
  },
  {
   "cell_type": "code",
   "execution_count": 84,
   "metadata": {},
   "outputs": [
    {
     "name": "stdout",
     "output_type": "stream",
     "text": [
      "['2014-10-01', '2014-11-01', '2014-12-01', '2015-01-01', '2015-02-01', '2015-03-01', '2015-04-01', '2015-05-01', '2015-06-01', '2015-07-01', '2015-08-01', '2015-09-01', '2015-10-01', '2015-11-01', '2015-12-01', '2016-01-01', '2016-02-01', '2016-03-01', '2016-04-01', '2016-05-01', '2016-06-01', '2016-07-01', '2016-08-01', '2016-09-01', '2016-10-01', '2016-11-01', '2016-12-01', '2017-01-01', '2017-02-01', '2017-03-01', '2017-04-01', '2017-05-01', '2017-06-01', '2017-07-01', '2017-08-01', '2017-09-01', '2017-10-01', '2017-11-01', '2017-12-01', '2018-01-01', '2018-02-01', '2018-03-01', '2018-04-01', '2018-05-01', '2018-06-01', '2018-07-01', '2018-08-01', '2018-09-01', '2018-10-01', '2018-11-01', '2018-12-01', '2019-01-01', '2019-02-01', '2019-03-01', '2019-04-01', '2019-05-01', '2019-06-01', '2019-07-01', '2019-08-01', '2019-09-01']\n"
     ]
    },
    {
     "data": {
      "text/plain": [
       "60"
      ]
     },
     "execution_count": 84,
     "metadata": {},
     "output_type": "execute_result"
    }
   ],
   "source": [
    "startdate = datetime.date(2014,10,1)\n",
    "enddate = datetime.date(2019, 8, 1)\n",
    "dates = [startdate.strftime('%Y-%m-%d')]\n",
    "\n",
    "while startdate <= enddate:\n",
    "    startdate += datetime.timedelta(days=32)\n",
    "    startdate = startdate.replace(day=1)\n",
    "    dates.append(startdate.strftime('%Y-%m-%d'))\n",
    "print(dates)\n",
    "len(dates)"
   ]
  },
  {
   "cell_type": "code",
   "execution_count": 151,
   "metadata": {},
   "outputs": [
    {
     "name": "stdout",
     "output_type": "stream",
     "text": [
      "dict_keys(['2014-10-01', '2014-11-01', '2014-12-01', '2015-01-01', '2015-02-01', '2015-03-01', '2015-04-01', '2015-05-01', '2015-06-01', '2015-07-01', '2015-08-01', '2015-09-01', '2015-10-01', '2015-11-01', '2015-12-01', '2016-01-01', '2016-02-01', '2016-03-01', '2016-04-01', '2016-05-01', '2016-06-01', '2016-07-01', '2016-08-01', '2016-09-01', '2016-10-01', '2016-11-01', '2016-12-01', '2017-01-01', '2017-02-01', '2017-03-01', '2017-04-01', '2017-05-01', '2017-06-01', '2017-07-01', '2017-08-01', '2017-09-01', '2017-10-01', '2017-11-01', '2017-12-01', '2018-01-01', '2018-02-01', '2018-03-01', '2018-04-01', '2018-05-01', '2018-06-01', '2018-07-01', '2018-08-01', '2018-09-01', '2018-10-01', '2018-11-01', '2018-12-01', '2019-01-01', '2019-02-01', '2019-03-01', '2019-04-01', '2019-05-01', '2019-06-01', '2019-07-01', '2019-08-01', '2019-09-01'])\n",
      "     actual_cost  ccg        date  items  quantity  row_id  \\\n",
      "0        2856.64  14L  2014-10-01    417     18650  P84004   \n",
      "1         919.79  14L  2014-10-01    203      8165  P84005   \n",
      "2        2063.74  14L  2014-10-01    357     17084  P84009   \n",
      "3        1873.21  14L  2014-10-01    423     17154  P84010   \n",
      "4        2992.22  14L  2014-10-01    644     28069  P84012   \n",
      "5        1423.76  14L  2014-10-01    397     13958  P84014   \n",
      "6        1671.28  14L  2014-10-01    398     17787  P84016   \n",
      "7        1913.21  14L  2014-10-01    427     17631  P84017   \n",
      "8        1283.54  14L  2014-10-01    302     10398  P84018   \n",
      "9        3895.84  14L  2014-10-01    690     30747  P84019   \n",
      "10       2851.24  14L  2014-10-01    564     23235  P84020   \n",
      "11       2482.11  14L  2014-10-01    518     22319  P84021   \n",
      "12       1187.97  14L  2014-10-01    299     10187  P84022   \n",
      "13       1529.72  14L  2014-10-01    386     13915  P84023   \n",
      "14       3695.10  14L  2014-10-01    703     29322  P84024   \n",
      "15       3056.39  14L  2014-10-01    651     29216  P84025   \n",
      "16       1087.36  14L  2014-10-01    260     17154  P84026   \n",
      "17       1290.33  14L  2014-10-01    296     13455  P84027   \n",
      "18       2521.81  14L  2014-10-01    651     24932  P84028   \n",
      "19       3777.36  14L  2014-10-01    803     33807  P84029   \n",
      "20       4211.59  14L  2014-10-01    739     41223  P84030   \n",
      "21       1308.33  14L  2014-10-01    356     13634  P84032   \n",
      "22       2158.16  14L  2014-10-01    413     21953  P84033   \n",
      "23       2493.03  14L  2014-10-01    500     24469  P84034   \n",
      "24       2910.08  14L  2014-10-01    631     22550  P84035   \n",
      "25       1153.51  14L  2014-10-01    297     16093  P84037   \n",
      "26       1856.54  14L  2014-10-01    306     18261  P84038   \n",
      "27        922.32  14L  2014-10-01    211     10850  P84039   \n",
      "28       1821.22  14L  2014-10-01    361     15032  P84040   \n",
      "29       1810.01  14L  2014-10-01    475     18701  P84041   \n",
      "..           ...  ...         ...    ...       ...     ...   \n",
      "78       1815.39  14L  2014-10-01    463     15731  P84673   \n",
      "79       1262.07  14L  2014-10-01    199     13234  P84676   \n",
      "80        707.78  14L  2014-10-01    161      5873  P84677   \n",
      "81       2048.64  14L  2014-10-01    506     24346  P84678   \n",
      "82        331.81  14L  2014-10-01     92      4157  P84679   \n",
      "83        500.45  14L  2014-10-01    117      4496  P84682   \n",
      "84        805.43  14L  2014-10-01    152      6768  P84683   \n",
      "85        796.31  14L  2014-10-01    163      7661  P84684   \n",
      "86       1095.15  14L  2014-10-01    182     12543  P84689   \n",
      "87        422.33  14L  2014-10-01    158      4739  P84690   \n",
      "88       2201.05  14L  2014-10-01    585     19931  Y00707   \n",
      "89         15.46  14L  2014-10-01      3        40  Y01249   \n",
      "90        633.86  14L  2014-10-01    138      6612  Y01695   \n",
      "91         30.39  14L  2014-10-01      8       145  Y02210   \n",
      "92        138.77  14L  2014-10-01     26       539  Y02211   \n",
      "93        755.49  14L  2014-10-01    175     10020  Y02325   \n",
      "94        430.99  14L  2014-10-01     74      8797  Y02330   \n",
      "95        853.44  14L  2014-10-01     74      3905  Y02520   \n",
      "96       5002.67  14L  2014-10-01    910     53976  Y02591   \n",
      "97       2335.73  14L  2014-10-01    689     24726  Y02849   \n",
      "98       2553.44  14L  2014-10-01    499     24576  Y02890   \n",
      "99       1143.64  14L  2014-10-01    246     13786  Y02960   \n",
      "100         9.35  14L  2014-10-01      4       126  Y03328   \n",
      "101         8.31  14L  2014-10-01      5        76  Y04084   \n",
      "102       106.46  14L  2014-10-01     11      1502  Y04086   \n",
      "103         6.39  14L  2014-10-01      2        56  Y04087   \n",
      "104        11.38  14L  2014-10-01      2        42  Y04380   \n",
      "105       875.60  14L  2014-10-01    255     13882  Y04477   \n",
      "106        15.97  14L  2014-10-01      5       262  Y04584   \n",
      "107        26.84  14L  2014-10-01      8       165  Y04605   \n",
      "\n",
      "                                   row_name  setting  \n",
      "0                FIVE OAKS FAMILIY PRACTICE        4  \n",
      "1                       THE VALLANCE CENTRE        4  \n",
      "2                AILSA CRAIG MEDICAL CENTRE        4  \n",
      "3              THE BORCHARDT MEDICAL CENTRE        4  \n",
      "4                 NORTHENDEN GROUP PRACTICE        4  \n",
      "5                       RK MEDICAL PRACTICE        4  \n",
      "6              LEVENSHULME MEDICAL PRACTICE        4  \n",
      "7                   LADYBARN GROUP PRACTICE        4  \n",
      "8                   MAULDETH MEDICAL CENTRE        4  \n",
      "9                  VALENTINE MEDICAL CENTRE        4  \n",
      "10                 PEEL HALL MEDICAL CENTRE        4  \n",
      "11                THE MAPLES MEDICAL CENTRE        4  \n",
      "12                KINGSWAY MEDICAL PRACTICE        4  \n",
      "13                    SURREY LODGE PRACTICE        4  \n",
      "14                 BOWLAND MEDICAL PRACTICE        4  \n",
      "15               ST GEORGE'S MEDICAL CENTRE        4  \n",
      "16            DICKENSON ROAD MEDICAL CENTRE        4  \n",
      "17                WEST POINT MEDICAL CENTRE        4  \n",
      "18                    GORTON MEDICAL CENTRE        4  \n",
      "19                BENCHILL MEDICAL PRACTICE        4  \n",
      "20            NEW COLLEGIATE MEDICAL CENTRE        4  \n",
      "21                      DRS HANIF & BANNURU        4  \n",
      "22                    BEACON MEDICAL CENTRE        4  \n",
      "23                    BARLOW MEDICAL CENTRE        4  \n",
      "24                     BODEY MEDICAL CENTRE        4  \n",
      "25                 DR CUNNINGHAM & PARTNERS        4  \n",
      "26                         ASHVILLE SURGERY        4  \n",
      "27                 THE RANGE MEDICAL CENTRE        4  \n",
      "28                    CONRAN MEDICAL CENTRE        4  \n",
      "29              CORNERSTONE FAMILY PRACTICE        4  \n",
      "..                                      ...      ...  \n",
      "78   ANCOATS URBAN VILLAGE MEDICAL PRACTICE        4  \n",
      "79             OSWALD ROAD MEDICAL PRACTICE        4  \n",
      "80     DIDSBURY MEDICAL CENTRE- DR ASHWORTH        4  \n",
      "81    DIDSBURY MEDICAL CENTRE - DR WHITAKER        4  \n",
      "82                       WILLOWBANK SURGERY        4  \n",
      "83              BURNAGE HEALTHCARE PRACTICE        4  \n",
      "84                        THE DOC'S SURGERY        4  \n",
      "85                     JOLLY MEDICAL CENTRE        4  \n",
      "86               LONGSIGHT MEDICAL PRACTICE        4  \n",
      "87                  DAM HEAD MEDICAL CENTRE        4  \n",
      "88                                     PCEC        1  \n",
      "89                      BUCCLEUCH LODGE ICF        0  \n",
      "90                         MP VICTORIA MILL        4  \n",
      "91                        INTERMEDIATE CARE        9  \n",
      "92      GORTON PARKS INTERMEDIATE CARE UNIT        9  \n",
      "93                           CHARLESTOWN MD        4  \n",
      "94        NURSING HOME PROJECT TEAM (SOUTH)       14  \n",
      "95                 SIMPSON MEDICAL PRACTICE        4  \n",
      "96            GTD HEALTHCARE GP SERVICE OOH        2  \n",
      "97                       CITY HEALTH CENTRE        4  \n",
      "98                              HAWTHORN MC        4  \n",
      "99                          NEW BANK HEALTH        4  \n",
      "100        TURNING POINT SMITHFIELD SERVICE        9  \n",
      "101                PAHNT COMMUNITY SERVICES        9  \n",
      "102            MFT ADULT COMMUNITY SERVICES        9  \n",
      "103                 UHSM COMMUNITY SERVICES        9  \n",
      "104                    CRISIS RESPONSE TEAM        9  \n",
      "105         PRIMARY CARE MANCHESTER LIMITED        0  \n",
      "106           INTERMEDIATE CARE (THE PEELE)        0  \n",
      "107                                   SMGPF        9  \n",
      "\n",
      "[108 rows x 8 columns]\n"
     ]
    }
   ],
   "source": [
    "d={}\n",
    "for i in df.date:\n",
    "    d[i] = df[df.date == i]\n",
    "print(d.keys())\n",
    "print(d['2014-10-01'])"
   ]
  },
  {
   "cell_type": "code",
   "execution_count": 152,
   "metadata": {},
   "outputs": [
    {
     "name": "stdout",
     "output_type": "stream",
     "text": [
      "dict_keys(['FIVE OAKS FAMILIY PRACTICE', 'THE VALLANCE CENTRE', 'AILSA CRAIG MEDICAL CENTRE', 'THE BORCHARDT MEDICAL CENTRE', 'NORTHENDEN GROUP PRACTICE', 'RK MEDICAL PRACTICE', 'LEVENSHULME MEDICAL PRACTICE', 'LADYBARN GROUP PRACTICE', 'MAULDETH MEDICAL CENTRE', 'VALENTINE MEDICAL CENTRE', 'PEEL HALL MEDICAL CENTRE', 'THE MAPLES MEDICAL CENTRE', 'KINGSWAY MEDICAL PRACTICE', 'SURREY LODGE PRACTICE', 'BOWLAND MEDICAL PRACTICE', \"ST GEORGE'S MEDICAL CENTRE\", 'DICKENSON ROAD MEDICAL CENTRE', 'WEST POINT MEDICAL CENTRE', 'GORTON MEDICAL CENTRE', 'BENCHILL MEDICAL PRACTICE', 'NEW COLLEGIATE MEDICAL CENTRE', 'DRS HANIF & BANNURU', 'BEACON MEDICAL CENTRE', 'BARLOW MEDICAL CENTRE', 'BODEY MEDICAL CENTRE', 'DR CUNNINGHAM & PARTNERS', 'ASHVILLE SURGERY', 'THE RANGE MEDICAL CENTRE', 'CONRAN MEDICAL CENTRE', 'CORNERSTONE FAMILY PRACTICE', 'FLORENCE HOUSE MEDICAL PRACTICE', 'CORNISHWAY GROUP PRACTICE', 'THE PARK MEDICAL CENTRE', 'CHEETHAM HILL PRIMARY CARE CENTRE', 'DROYLSDEN RD FAMILY PRACTICE', 'TREGENNA GROUP PRACTICE', 'THE AVENUE MEDICAL CENTRE', 'MOUNT ROAD SURGERY', 'EASTLANDS MEDICAL CENTRE', 'WEST GORTON MEDICAL PRACTICE', 'ASHCROFT SURGERY', 'WHITLEY ROAD MEDICAL CENTRE', 'MERSEYBANK SURGERY', 'PRINCESS ROAD SURGERY', 'LIME SQUARE MEDICAL CENTRE', 'BROOKLANDS MEDICAL PRACTICE', 'BROOKDALE SURGERY', 'NEW ISLINGTON MEDICAL CENTRE', 'THE SINGH MEDICAL PRACTICE', 'DAVID MEDICAL CENTRE', 'HAZELDENE MEDICAL CENTRE', 'CHORLTON FAMILY PRACTICE', 'NEWTON HEATH MEDICAL CENTRE', 'WILBRAHAM SURGERY', 'THE ROBERT DARBISHIRE PRACTICE', 'WELLFIELD MEDICAL CENTRE', 'FERNCLOUGH SURGERY', 'DR CHIU, KOH AND GAN', 'MANCHESTER MEDICAL', 'ALEESHAN MEDICAL CENTRE', 'WILMSLOW ROAD SURGERY', \"DR TIWARI'S PRACTICE\", 'THE ARCH MEDICAL PRACTICE', 'ARTANE MEDICAL CENTRE', 'THE WHITSWOOD PRACTICE', \"DR KHAN'S PRACTICE\", 'FALLOWFIELD MEDICAL CENTRE', 'QUEENS MEDICAL CENTRE', 'PARKSIDE SURGERY', 'PARK VIEW MEDICAL CENTRE', 'THE ALEXANDRA PRACTICE', 'NORTHERN MOOR MEDICAL PRACTICE', 'CORKLAND ROAD MEDICAL PRACTICE', \"DR HUSSAIN'S PRACTICE\", 'THE NEVILLE FAMILY CENTRE', 'AL-SHIFA MEDICAL CENTRE', 'CORNBROOK MEDICAL PRACTICE', 'WOODLANDS MEDICAL PRACTICE', 'ANCOATS URBAN VILLAGE MEDICAL PRACTICE', 'OSWALD ROAD MEDICAL PRACTICE', 'DIDSBURY MEDICAL CENTRE- DR ASHWORTH', 'DIDSBURY MEDICAL CENTRE - DR WHITAKER', 'WILLOWBANK SURGERY', 'BURNAGE HEALTHCARE PRACTICE', \"THE DOC'S SURGERY\", 'JOLLY MEDICAL CENTRE', 'LONGSIGHT MEDICAL PRACTICE', 'DAM HEAD MEDICAL CENTRE', 'PCEC', 'BUCCLEUCH LODGE ICF', 'MP VICTORIA MILL', 'INTERMEDIATE CARE', 'GORTON PARKS INTERMEDIATE CARE UNIT', 'CHARLESTOWN MD', 'NURSING HOME PROJECT TEAM (SOUTH)', 'SIMPSON MEDICAL PRACTICE', 'GTD HEALTHCARE GP SERVICE OOH', 'CITY HEALTH CENTRE', 'HAWTHORN MC', 'NEW BANK HEALTH', 'TURNING POINT SMITHFIELD SERVICE', 'PAHNT COMMUNITY SERVICES', 'MFT ADULT COMMUNITY SERVICES', 'UHSM COMMUNITY SERVICES', 'CRISIS RESPONSE TEAM', 'PRIMARY CARE MANCHESTER LIMITED', 'INTERMEDIATE CARE (THE PEELE)', 'SMGPF', 'COMMUNITY PAEDIATRICIANS', 'VIOLENT PATIENT ENHANCED SERVICE 1', 'MFT CHILDRENS COMMUNITY SERVICES', 'EAR & NOSE CLINIC', 'NORTHERN HEALTH HUB 1', 'NORTHERN HEALTH GPPO HUB 3', 'NORTHERN HEALTH GPPO HUB 2', 'NORTHERN HEALTH GPPO HUB 4', 'NORTHERN HEALTH GPPO A & E HUB', 'BEACON MEDICAL SERVICES LIMITED', 'CONTINENCE PRESCRIBING SERVICE', 'NORTHERN HEALTH GPPO - JOLLY HIPC'])\n"
     ]
    },
    {
     "ename": "KeyError",
     "evalue": "'FIVE OAKS FAMILY PRACTICE'",
     "output_type": "error",
     "traceback": [
      "\u001b[0;31m---------------------------------------------------------------------------\u001b[0m",
      "\u001b[0;31mKeyError\u001b[0m                                  Traceback (most recent call last)",
      "\u001b[0;32m<ipython-input-152-fc88a9c0c0ae>\u001b[0m in \u001b[0;36m<module>\u001b[0;34m\u001b[0m\n\u001b[1;32m      3\u001b[0m     \u001b[0md\u001b[0m\u001b[0;34m[\u001b[0m\u001b[0mi\u001b[0m\u001b[0;34m]\u001b[0m \u001b[0;34m=\u001b[0m \u001b[0mdf\u001b[0m\u001b[0;34m[\u001b[0m\u001b[0mdf\u001b[0m\u001b[0;34m.\u001b[0m\u001b[0mrow_name\u001b[0m \u001b[0;34m==\u001b[0m \u001b[0mi\u001b[0m\u001b[0;34m]\u001b[0m\u001b[0;34m\u001b[0m\u001b[0;34m\u001b[0m\u001b[0m\n\u001b[1;32m      4\u001b[0m \u001b[0mprint\u001b[0m\u001b[0;34m(\u001b[0m\u001b[0md\u001b[0m\u001b[0;34m.\u001b[0m\u001b[0mkeys\u001b[0m\u001b[0;34m(\u001b[0m\u001b[0;34m)\u001b[0m\u001b[0;34m)\u001b[0m\u001b[0;34m\u001b[0m\u001b[0;34m\u001b[0m\u001b[0m\n\u001b[0;32m----> 5\u001b[0;31m \u001b[0mprint\u001b[0m\u001b[0;34m(\u001b[0m\u001b[0md\u001b[0m\u001b[0;34m[\u001b[0m\u001b[0;34m'FIVE OAKS FAMILY PRACTICE'\u001b[0m\u001b[0;34m]\u001b[0m\u001b[0;34m)\u001b[0m\u001b[0;34m\u001b[0m\u001b[0;34m\u001b[0m\u001b[0m\n\u001b[0m\u001b[1;32m      6\u001b[0m \u001b[0;34m\u001b[0m\u001b[0m\n",
      "\u001b[0;31mKeyError\u001b[0m: 'FIVE OAKS FAMILY PRACTICE'"
     ]
    }
   ],
   "source": [
    "d={}\n",
    "for i in df.row_name:\n",
    "    d[i] = df[df.row_name == i]\n",
    "print(d.keys())\n",
    "print(d['FIVE OAKS FAMILY PRACTICE'])\n",
    "    "
   ]
  },
  {
   "cell_type": "code",
   "execution_count": 126,
   "metadata": {},
   "outputs": [
    {
     "data": {
      "text/plain": [
       "count      108.000000\n",
       "mean     13938.759259\n",
       "std       9609.191984\n",
       "min         40.000000\n",
       "25%       7149.000000\n",
       "50%      13614.000000\n",
       "75%      18355.250000\n",
       "max      53976.000000\n",
       "Name: quantity, dtype: float64"
      ]
     },
     "execution_count": 126,
     "metadata": {},
     "output_type": "execute_result"
    }
   ],
   "source": [
    "d['2014-10-01']['quantity'].describe()"
   ]
  },
  {
   "cell_type": "code",
   "execution_count": 148,
   "metadata": {},
   "outputs": [
    {
     "name": "stdout",
     "output_type": "stream",
     "text": [
      "[18650, 8165, 17084, 17154, 28069, 13958, 17787, 17631, 10398, 30747, 23235, 22319, 10187, 13915, 29322, 29216, 17154, 13455, 24932, 13634, 21953, 24469, 22550, 16093, 18261, 10850, 15032, 18701, 16382, 25801, 17334, 21962, 12466, 17665, 16741, 15348, 17007, 16139, 17272, 9698, 12422, 20789, 9732, 5362, 7470, 14835, 11371, 23580, 13614, 12638, 8799, 25651, 26171, 1297, 12871, 10215, 945, 8320, 3456, 15821, 5508, 7276, 6726, 2474, 9073, 10495, 18638, 9117, 6397, 15195, 3931, 14233, 4482, 13614, 8723, 15731, 13234, 5873, 24346, 4157, 4496, 6768, 7661, 12543, 4739, 19931, 40, 6612, 145, 539, 10020, 8797, 3905, 24726, 24576, 13786, 126, 76, 1502, 56, 42, 13882, 262, 165] 104\n"
     ]
    }
   ],
   "source": [
    "x = np.array(d['2014-10-01']['quantity'])\n",
    "mean = np.mean(x, axis=0)\n",
    "sd = np.std(x, axis=0)\n",
    "x_no = [i for i in x if (i > mean - 2 * sd)]\n",
    "x_no = [i for i in x_no if (i < mean + 2 * sd)]\n",
    "\n",
    "print(x_no,len(x_no))\n"
   ]
  },
  {
   "cell_type": "code",
   "execution_count": 122,
   "metadata": {},
   "outputs": [
    {
     "name": "stdout",
     "output_type": "stream",
     "text": [
      "(array([96]),)\n"
     ]
    }
   ],
   "source": [
    "#d['2014-10-01']['quantity'][(np.abs(stats.zscore(df['2014-10-01']['quantity'])) < 3).all(axis=1)]\n",
    "z = np.abs(stats.zscore(d['2014-10-01']['quantity']))\n",
    "#print(z)\n",
    "threshold = 3\n",
    "print(np.where(z > 3))\n"
   ]
  },
  {
   "cell_type": "code",
   "execution_count": 90,
   "metadata": {},
   "outputs": [
    {
     "data": {
      "text/html": [
       "<div>\n",
       "<style scoped>\n",
       "    .dataframe tbody tr th:only-of-type {\n",
       "        vertical-align: middle;\n",
       "    }\n",
       "\n",
       "    .dataframe tbody tr th {\n",
       "        vertical-align: top;\n",
       "    }\n",
       "\n",
       "    .dataframe thead th {\n",
       "        text-align: right;\n",
       "    }\n",
       "</style>\n",
       "<table border=\"1\" class=\"dataframe\">\n",
       "  <thead>\n",
       "    <tr style=\"text-align: right;\">\n",
       "      <th></th>\n",
       "      <th>date</th>\n",
       "      <th>count</th>\n",
       "      <th>mean</th>\n",
       "      <th>std</th>\n",
       "      <th>min</th>\n",
       "      <th>25%</th>\n",
       "      <th>50%</th>\n",
       "      <th>75%</th>\n",
       "      <th>max</th>\n",
       "    </tr>\n",
       "  </thead>\n",
       "  <tbody>\n",
       "    <tr>\n",
       "      <th>0</th>\n",
       "      <td>2014-10-01</td>\n",
       "      <td>108.0</td>\n",
       "      <td>13938.759259</td>\n",
       "      <td>9609.191984</td>\n",
       "      <td>40.0</td>\n",
       "      <td>7149.00</td>\n",
       "      <td>13614.0</td>\n",
       "      <td>18355.25</td>\n",
       "      <td>53976.0</td>\n",
       "    </tr>\n",
       "    <tr>\n",
       "      <th>1</th>\n",
       "      <td>2014-11-01</td>\n",
       "      <td>110.0</td>\n",
       "      <td>13732.800000</td>\n",
       "      <td>10577.154354</td>\n",
       "      <td>30.0</td>\n",
       "      <td>6945.00</td>\n",
       "      <td>12586.0</td>\n",
       "      <td>18729.75</td>\n",
       "      <td>68588.0</td>\n",
       "    </tr>\n",
       "    <tr>\n",
       "      <th>2</th>\n",
       "      <td>2014-12-01</td>\n",
       "      <td>109.0</td>\n",
       "      <td>17997.440367</td>\n",
       "      <td>13963.053546</td>\n",
       "      <td>15.0</td>\n",
       "      <td>8551.00</td>\n",
       "      <td>16599.0</td>\n",
       "      <td>25063.00</td>\n",
       "      <td>95842.0</td>\n",
       "    </tr>\n",
       "    <tr>\n",
       "      <th>3</th>\n",
       "      <td>2015-01-01</td>\n",
       "      <td>109.0</td>\n",
       "      <td>14128.724771</td>\n",
       "      <td>10257.171413</td>\n",
       "      <td>14.0</td>\n",
       "      <td>6512.00</td>\n",
       "      <td>12845.0</td>\n",
       "      <td>20305.00</td>\n",
       "      <td>56335.0</td>\n",
       "    </tr>\n",
       "    <tr>\n",
       "      <th>4</th>\n",
       "      <td>2015-02-01</td>\n",
       "      <td>108.0</td>\n",
       "      <td>13509.268519</td>\n",
       "      <td>9421.633025</td>\n",
       "      <td>10.0</td>\n",
       "      <td>6482.75</td>\n",
       "      <td>13009.0</td>\n",
       "      <td>18305.50</td>\n",
       "      <td>43245.0</td>\n",
       "    </tr>\n",
       "  </tbody>\n",
       "</table>\n",
       "</div>"
      ],
      "text/plain": [
       "         date  count          mean           std   min      25%      50%  \\\n",
       "0  2014-10-01  108.0  13938.759259   9609.191984  40.0  7149.00  13614.0   \n",
       "1  2014-11-01  110.0  13732.800000  10577.154354  30.0  6945.00  12586.0   \n",
       "2  2014-12-01  109.0  17997.440367  13963.053546  15.0  8551.00  16599.0   \n",
       "3  2015-01-01  109.0  14128.724771  10257.171413  14.0  6512.00  12845.0   \n",
       "4  2015-02-01  108.0  13509.268519   9421.633025  10.0  6482.75  13009.0   \n",
       "\n",
       "        75%      max  \n",
       "0  18355.25  53976.0  \n",
       "1  18729.75  68588.0  \n",
       "2  25063.00  95842.0  \n",
       "3  20305.00  56335.0  \n",
       "4  18305.50  43245.0  "
      ]
     },
     "execution_count": 90,
     "metadata": {},
     "output_type": "execute_result"
    }
   ],
   "source": [
    "dfstats = df.groupby('date')['quantity'].describe().reset_index()\n",
    "dfstats.head()"
   ]
  },
  {
   "cell_type": "code",
   "execution_count": 26,
   "metadata": {},
   "outputs": [
    {
     "data": {
      "text/html": [
       "<div>\n",
       "<style scoped>\n",
       "    .dataframe tbody tr th:only-of-type {\n",
       "        vertical-align: middle;\n",
       "    }\n",
       "\n",
       "    .dataframe tbody tr th {\n",
       "        vertical-align: top;\n",
       "    }\n",
       "\n",
       "    .dataframe thead th {\n",
       "        text-align: right;\n",
       "    }\n",
       "</style>\n",
       "<table border=\"1\" class=\"dataframe\">\n",
       "  <thead>\n",
       "    <tr style=\"text-align: right;\">\n",
       "      <th></th>\n",
       "      <th>count</th>\n",
       "      <th>mean</th>\n",
       "      <th>std</th>\n",
       "      <th>min</th>\n",
       "      <th>25%</th>\n",
       "      <th>50%</th>\n",
       "      <th>75%</th>\n",
       "      <th>max</th>\n",
       "    </tr>\n",
       "    <tr>\n",
       "      <th>row_name</th>\n",
       "      <th></th>\n",
       "      <th></th>\n",
       "      <th></th>\n",
       "      <th></th>\n",
       "      <th></th>\n",
       "      <th></th>\n",
       "      <th></th>\n",
       "      <th></th>\n",
       "    </tr>\n",
       "  </thead>\n",
       "  <tbody>\n",
       "    <tr>\n",
       "      <th>AILSA CRAIG MEDICAL CENTRE</th>\n",
       "      <td>60.0</td>\n",
       "      <td>15646.916667</td>\n",
       "      <td>2812.848808</td>\n",
       "      <td>10521.0</td>\n",
       "      <td>13688.50</td>\n",
       "      <td>15320.0</td>\n",
       "      <td>17163.00</td>\n",
       "      <td>25916.0</td>\n",
       "    </tr>\n",
       "    <tr>\n",
       "      <th>AL-SHIFA MEDICAL CENTRE</th>\n",
       "      <td>60.0</td>\n",
       "      <td>2797.183333</td>\n",
       "      <td>911.417307</td>\n",
       "      <td>1325.0</td>\n",
       "      <td>2172.00</td>\n",
       "      <td>2640.0</td>\n",
       "      <td>3186.25</td>\n",
       "      <td>5671.0</td>\n",
       "    </tr>\n",
       "    <tr>\n",
       "      <th>ALEESHAN MEDICAL CENTRE</th>\n",
       "      <td>35.0</td>\n",
       "      <td>1193.628571</td>\n",
       "      <td>593.122202</td>\n",
       "      <td>21.0</td>\n",
       "      <td>835.00</td>\n",
       "      <td>1070.0</td>\n",
       "      <td>1543.00</td>\n",
       "      <td>3033.0</td>\n",
       "    </tr>\n",
       "    <tr>\n",
       "      <th>ANCOATS URBAN VILLAGE MEDICAL PRACTICE</th>\n",
       "      <td>60.0</td>\n",
       "      <td>13729.350000</td>\n",
       "      <td>2780.636123</td>\n",
       "      <td>8959.0</td>\n",
       "      <td>11925.75</td>\n",
       "      <td>13289.5</td>\n",
       "      <td>15120.50</td>\n",
       "      <td>26306.0</td>\n",
       "    </tr>\n",
       "    <tr>\n",
       "      <th>ARTANE MEDICAL CENTRE</th>\n",
       "      <td>57.0</td>\n",
       "      <td>4246.403509</td>\n",
       "      <td>2039.236305</td>\n",
       "      <td>252.0</td>\n",
       "      <td>2130.00</td>\n",
       "      <td>4670.0</td>\n",
       "      <td>5589.00</td>\n",
       "      <td>7501.0</td>\n",
       "    </tr>\n",
       "  </tbody>\n",
       "</table>\n",
       "</div>"
      ],
      "text/plain": [
       "                                        count          mean          std  \\\n",
       "row_name                                                                   \n",
       "AILSA CRAIG MEDICAL CENTRE               60.0  15646.916667  2812.848808   \n",
       "AL-SHIFA MEDICAL CENTRE                  60.0   2797.183333   911.417307   \n",
       "ALEESHAN MEDICAL CENTRE                  35.0   1193.628571   593.122202   \n",
       "ANCOATS URBAN VILLAGE MEDICAL PRACTICE   60.0  13729.350000  2780.636123   \n",
       "ARTANE MEDICAL CENTRE                    57.0   4246.403509  2039.236305   \n",
       "\n",
       "                                            min       25%      50%       75%  \\\n",
       "row_name                                                                       \n",
       "AILSA CRAIG MEDICAL CENTRE              10521.0  13688.50  15320.0  17163.00   \n",
       "AL-SHIFA MEDICAL CENTRE                  1325.0   2172.00   2640.0   3186.25   \n",
       "ALEESHAN MEDICAL CENTRE                    21.0    835.00   1070.0   1543.00   \n",
       "ANCOATS URBAN VILLAGE MEDICAL PRACTICE   8959.0  11925.75  13289.5  15120.50   \n",
       "ARTANE MEDICAL CENTRE                     252.0   2130.00   4670.0   5589.00   \n",
       "\n",
       "                                            max  \n",
       "row_name                                         \n",
       "AILSA CRAIG MEDICAL CENTRE              25916.0  \n",
       "AL-SHIFA MEDICAL CENTRE                  5671.0  \n",
       "ALEESHAN MEDICAL CENTRE                  3033.0  \n",
       "ANCOATS URBAN VILLAGE MEDICAL PRACTICE  26306.0  \n",
       "ARTANE MEDICAL CENTRE                    7501.0  "
      ]
     },
     "execution_count": 26,
     "metadata": {},
     "output_type": "execute_result"
    }
   ],
   "source": [
    "dfstats1 = df.groupby('row_name')['quantity'].describe().reset_index()\n",
    "dfstats1.head()"
   ]
  },
  {
   "cell_type": "code",
   "execution_count": 47,
   "metadata": {},
   "outputs": [
    {
     "data": {
      "text/plain": [
       "<matplotlib.legend.Legend at 0x7efdf608f160>"
      ]
     },
     "execution_count": 47,
     "metadata": {},
     "output_type": "execute_result"
    },
    {
     "data": {
      "image/png": "[encoded data removed]",
      "text/plain": [
       "<Figure size 432x288 with 1 Axes>"
      ]
     },
     "metadata": {
      "needs_background": "light"
     },
     "output_type": "display_data"
    },
    {
     "data": {
      "image/png": "[encoded data removed]",
      "text/plain": [
       "<Figure size 432x288 with 1 Axes>"
      ]
     },
     "metadata": {
      "needs_background": "light"
     },
     "output_type": "display_data"
    },
    {
     "data": {
      "image/png": "[encoded data removed]",
      "text/plain": [
       "<Figure size 432x288 with 1 Axes>"
      ]
     },
     "metadata": {
      "needs_background": "light"
     },
     "output_type": "display_data"
    }
   ],
   "source": [
    "df.set_index('date')\n",
    "dfstats.plot('date','mean')\n",
    "dfstats.plot('date', 'min')\n",
    "dfstats.plot('date','max')\n",
    "plt.legend(loc='center left', bbox_to_anchor=(1.0,0.5))"
   ]
  },
  {
   "cell_type": "code",
   "execution_count": 59,
   "metadata": {},
   "outputs": [
    {
     "data": {
      "text/plain": [
       "[<matplotlib.lines.Line2D at 0x7efdddb85b38>]"
      ]
     },
     "execution_count": 59,
     "metadata": {},
     "output_type": "execute_result"
    },
    {
     "data": {
      "image/png": "[encoded data removed]",
      "text/plain": [
       "<Figure size 432x288 with 1 Axes>"
      ]
     },
     "metadata": {
      "needs_background": "light"
     },
     "output_type": "display_data"
    }
   ],
   "source": [
    "plt.plot(dfstats['date'],dfstats['mean'], '-r', label='mean')\n",
    "plt.plot(dfstats['date'],dfstats['mean']+dfstats['std'], '--b')\n",
    "plt.plot(dfstats['date'],dfstats['mean']-dfstats['std'], '--b' )"
   ]
  },
  {
   "cell_type": "code",
   "execution_count": 63,
   "metadata": {},
   "outputs": [
    {
     "ename": "AttributeError",
     "evalue": "'DataFrame' object has no attribute 'between'",
     "output_type": "error",
     "traceback": [
      "\u001b[0;31m---------------------------------------------------------------------------\u001b[0m",
      "\u001b[0;31mAttributeError\u001b[0m                            Traceback (most recent call last)",
      "\u001b[0;32m<ipython-input-63-034ddab297ae>\u001b[0m in \u001b[0;36m<module>\u001b[0;34m\u001b[0m\n\u001b[1;32m      1\u001b[0m \u001b[0my\u001b[0m\u001b[0;34m=\u001b[0m\u001b[0mdf\u001b[0m\u001b[0;34m\u001b[0m\u001b[0;34m\u001b[0m\u001b[0m\n\u001b[0;32m----> 2\u001b[0;31m \u001b[0mremoved_outliers\u001b[0m \u001b[0;34m=\u001b[0m \u001b[0my\u001b[0m\u001b[0;34m.\u001b[0m\u001b[0mbetween\u001b[0m\u001b[0;34m(\u001b[0m\u001b[0mdfstats\u001b[0m\u001b[0;34m[\u001b[0m\u001b[0;34m'mean'\u001b[0m\u001b[0;34m]\u001b[0m \u001b[0;34m+\u001b[0m \u001b[0;36m2\u001b[0m\u001b[0;34m*\u001b[0m\u001b[0mdfstats\u001b[0m\u001b[0;34m[\u001b[0m\u001b[0;34m'std'\u001b[0m\u001b[0;34m]\u001b[0m\u001b[0;34m,\u001b[0m\u001b[0mdfstats\u001b[0m\u001b[0;34m[\u001b[0m\u001b[0;34m'mean'\u001b[0m\u001b[0;34m]\u001b[0m\u001b[0;34m-\u001b[0m \u001b[0;36m2\u001b[0m\u001b[0;34m*\u001b[0m\u001b[0mdfstats\u001b[0m\u001b[0;34m[\u001b[0m\u001b[0;34m'std'\u001b[0m\u001b[0;34m]\u001b[0m\u001b[0;34m)\u001b[0m\u001b[0;34m\u001b[0m\u001b[0;34m\u001b[0m\u001b[0m\n\u001b[0m",
      "\u001b[0;32m/opt/apps/anaconda/lib/python3.7/site-packages/pandas/core/generic.py\u001b[0m in \u001b[0;36m__getattr__\u001b[0;34m(self, name)\u001b[0m\n\u001b[1;32m   5065\u001b[0m             \u001b[0;32mif\u001b[0m \u001b[0mself\u001b[0m\u001b[0;34m.\u001b[0m\u001b[0m_info_axis\u001b[0m\u001b[0;34m.\u001b[0m\u001b[0m_can_hold_identifiers_and_holds_name\u001b[0m\u001b[0;34m(\u001b[0m\u001b[0mname\u001b[0m\u001b[0;34m)\u001b[0m\u001b[0;34m:\u001b[0m\u001b[0;34m\u001b[0m\u001b[0;34m\u001b[0m\u001b[0m\n\u001b[1;32m   5066\u001b[0m                 \u001b[0;32mreturn\u001b[0m \u001b[0mself\u001b[0m\u001b[0;34m[\u001b[0m\u001b[0mname\u001b[0m\u001b[0;34m]\u001b[0m\u001b[0;34m\u001b[0m\u001b[0;34m\u001b[0m\u001b[0m\n\u001b[0;32m-> 5067\u001b[0;31m             \u001b[0;32mreturn\u001b[0m \u001b[0mobject\u001b[0m\u001b[0;34m.\u001b[0m\u001b[0m__getattribute__\u001b[0m\u001b[0;34m(\u001b[0m\u001b[0mself\u001b[0m\u001b[0;34m,\u001b[0m \u001b[0mname\u001b[0m\u001b[0;34m)\u001b[0m\u001b[0;34m\u001b[0m\u001b[0;34m\u001b[0m\u001b[0m\n\u001b[0m\u001b[1;32m   5068\u001b[0m \u001b[0;34m\u001b[0m\u001b[0m\n\u001b[1;32m   5069\u001b[0m     \u001b[0;32mdef\u001b[0m \u001b[0m__setattr__\u001b[0m\u001b[0;34m(\u001b[0m\u001b[0mself\u001b[0m\u001b[0;34m,\u001b[0m \u001b[0mname\u001b[0m\u001b[0;34m,\u001b[0m \u001b[0mvalue\u001b[0m\u001b[0;34m)\u001b[0m\u001b[0;34m:\u001b[0m\u001b[0;34m\u001b[0m\u001b[0;34m\u001b[0m\u001b[0m\n",
      "\u001b[0;31mAttributeError\u001b[0m: 'DataFrame' object has no attribute 'between'"
     ]
    }
   ],
   "source": [
    "y=df\n",
    "removed_outliers = y.between(dfstats['mean'] + 2*dfstats['std'],dfstats['mean']- 2*dfstats['std'])"
   ]
  },
  {
   "cell_type": "code",
   "execution_count": 149,
   "metadata": {},
   "outputs": [
    {
     "data": {
      "text/plain": [
       "0                   FIVE OAKS FAMILIY PRACTICE\n",
       "1                          THE VALLANCE CENTRE\n",
       "2                   AILSA CRAIG MEDICAL CENTRE\n",
       "3                 THE BORCHARDT MEDICAL CENTRE\n",
       "4                    NORTHENDEN GROUP PRACTICE\n",
       "5                          RK MEDICAL PRACTICE\n",
       "6                 LEVENSHULME MEDICAL PRACTICE\n",
       "7                      LADYBARN GROUP PRACTICE\n",
       "8                      MAULDETH MEDICAL CENTRE\n",
       "9                     VALENTINE MEDICAL CENTRE\n",
       "10                    PEEL HALL MEDICAL CENTRE\n",
       "11                   THE MAPLES MEDICAL CENTRE\n",
       "12                   KINGSWAY MEDICAL PRACTICE\n",
       "13                       SURREY LODGE PRACTICE\n",
       "14                    BOWLAND MEDICAL PRACTICE\n",
       "15                  ST GEORGE'S MEDICAL CENTRE\n",
       "16               DICKENSON ROAD MEDICAL CENTRE\n",
       "17                   WEST POINT MEDICAL CENTRE\n",
       "18                       GORTON MEDICAL CENTRE\n",
       "19                   BENCHILL MEDICAL PRACTICE\n",
       "20               NEW COLLEGIATE MEDICAL CENTRE\n",
       "21                         DRS HANIF & BANNURU\n",
       "22                       BEACON MEDICAL CENTRE\n",
       "23                       BARLOW MEDICAL CENTRE\n",
       "24                        BODEY MEDICAL CENTRE\n",
       "25                    DR CUNNINGHAM & PARTNERS\n",
       "26                            ASHVILLE SURGERY\n",
       "27                    THE RANGE MEDICAL CENTRE\n",
       "28                       CONRAN MEDICAL CENTRE\n",
       "29                 CORNERSTONE FAMILY PRACTICE\n",
       "                         ...                  \n",
       "6347                   AL-SHIFA MEDICAL CENTRE\n",
       "6348                CORNBROOK MEDICAL PRACTICE\n",
       "6349                WOODLANDS MEDICAL PRACTICE\n",
       "6350    ANCOATS URBAN VILLAGE MEDICAL PRACTICE\n",
       "6351     DIDSBURY MEDICAL CENTRE - DR WHITAKER\n",
       "6352                        WILLOWBANK SURGERY\n",
       "6353               BURNAGE HEALTHCARE PRACTICE\n",
       "6354                         THE DOC'S SURGERY\n",
       "6355                      JOLLY MEDICAL CENTRE\n",
       "6356                LONGSIGHT MEDICAL PRACTICE\n",
       "6357                   DAM HEAD MEDICAL CENTRE\n",
       "6358                  COMMUNITY PAEDIATRICIANS\n",
       "6359                                      PCEC\n",
       "6360                       BUCCLEUCH LODGE ICF\n",
       "6361                          MP VICTORIA MILL\n",
       "6362       GORTON PARKS INTERMEDIATE CARE UNIT\n",
       "6363                            CHARLESTOWN MD\n",
       "6364         NURSING HOME PROJECT TEAM (SOUTH)\n",
       "6365                  SIMPSON MEDICAL PRACTICE\n",
       "6366             GTD HEALTHCARE GP SERVICE OOH\n",
       "6367                        CITY HEALTH CENTRE\n",
       "6368                               HAWTHORN MC\n",
       "6369                           NEW BANK HEALTH\n",
       "6370                  PAHNT COMMUNITY SERVICES\n",
       "6371              MFT ADULT COMMUNITY SERVICES\n",
       "6372                   UHSM COMMUNITY SERVICES\n",
       "6373                      CRISIS RESPONSE TEAM\n",
       "6374           PRIMARY CARE MANCHESTER LIMITED\n",
       "6375             INTERMEDIATE CARE (THE PEELE)\n",
       "6376                                     SMGPF\n",
       "Name: row_name, Length: 6377, dtype: object"
      ]
     },
     "execution_count": 149,
     "metadata": {},
     "output_type": "execute_result"
    }
   ],
   "source": [
    "df.row_name"
   ]
  },
  {
   "cell_type": "code",
   "execution_count": null,
   "metadata": {},
   "outputs": [],
   "source": []
  }
 ],
 "metadata": {
  "kernelspec": {
   "display_name": "Python 3",
   "language": "python",
   "name": "python3"
  },
  "language_info": {
   "codemirror_mode": {
    "name": "ipython",
    "version": 3
   },
   "file_extension": ".py",
   "mimetype": "text/x-python",
   "name": "python",
   "nbconvert_exporter": "python",
   "pygments_lexer": "ipython3",
   "version": "3.7.3"
  }
 },
 "nbformat": 4,
 "nbformat_minor": 2
}
